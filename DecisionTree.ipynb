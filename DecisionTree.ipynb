{
 "cells": [
  {
   "cell_type": "markdown",
   "metadata": {},
   "source": [
    "# Decision Tree"
   ]
  },
  {
   "cell_type": "markdown",
   "metadata": {},
   "source": [
    "# Imports\n",
    "\n",
    "Necessary imports "
   ]
  },
  {
   "cell_type": "code",
   "execution_count": 1,
   "metadata": {},
   "outputs": [],
   "source": [
    "# Imports necessary imports\n",
    "import numpy as np\n",
    "import pandas as pd\n",
    "import imblearn\n",
    "import seaborn as sns\n",
    "from sklearn.model_selection import train_test_split, GridSearchCV, KFold\n",
    "from sklearn.tree import DecisionTreeClassifier\n",
    "from imblearn.combine import SMOTETomek\n",
    "from sklearn.metrics import confusion_matrix, classification_report\n",
    "\n",
    "# Get dataset\n",
    "df = pd.read_csv('telecom_churn.csv')\n",
    "\n",
    "# Remove the features MonthlyCharge and DataUsage from dataset\n",
    "df_features = df.drop([\"MonthlyCharge\", \"DataUsage\"], axis=1)"
   ]
  },
  {
   "cell_type": "code",
   "execution_count": 2,
   "metadata": {},
   "outputs": [
    {
     "data": {
      "text/html": [
       "<div>\n",
       "<style scoped>\n",
       "    .dataframe tbody tr th:only-of-type {\n",
       "        vertical-align: middle;\n",
       "    }\n",
       "\n",
       "    .dataframe tbody tr th {\n",
       "        vertical-align: top;\n",
       "    }\n",
       "\n",
       "    .dataframe thead th {\n",
       "        text-align: right;\n",
       "    }\n",
       "</style>\n",
       "<table border=\"1\" class=\"dataframe\">\n",
       "  <thead>\n",
       "    <tr style=\"text-align: right;\">\n",
       "      <th></th>\n",
       "      <th>Churn</th>\n",
       "      <th>AccountWeeks</th>\n",
       "      <th>ContractRenewal</th>\n",
       "      <th>DataPlan</th>\n",
       "      <th>CustServCalls</th>\n",
       "      <th>DayMins</th>\n",
       "      <th>DayCalls</th>\n",
       "      <th>OverageFee</th>\n",
       "      <th>RoamMins</th>\n",
       "    </tr>\n",
       "  </thead>\n",
       "  <tbody>\n",
       "    <tr>\n",
       "      <th>0</th>\n",
       "      <td>0</td>\n",
       "      <td>128</td>\n",
       "      <td>1</td>\n",
       "      <td>1</td>\n",
       "      <td>1</td>\n",
       "      <td>265.1</td>\n",
       "      <td>110</td>\n",
       "      <td>9.87</td>\n",
       "      <td>10.0</td>\n",
       "    </tr>\n",
       "    <tr>\n",
       "      <th>1</th>\n",
       "      <td>0</td>\n",
       "      <td>107</td>\n",
       "      <td>1</td>\n",
       "      <td>1</td>\n",
       "      <td>1</td>\n",
       "      <td>161.6</td>\n",
       "      <td>123</td>\n",
       "      <td>9.78</td>\n",
       "      <td>13.7</td>\n",
       "    </tr>\n",
       "    <tr>\n",
       "      <th>2</th>\n",
       "      <td>0</td>\n",
       "      <td>137</td>\n",
       "      <td>1</td>\n",
       "      <td>0</td>\n",
       "      <td>0</td>\n",
       "      <td>243.4</td>\n",
       "      <td>114</td>\n",
       "      <td>6.06</td>\n",
       "      <td>12.2</td>\n",
       "    </tr>\n",
       "    <tr>\n",
       "      <th>3</th>\n",
       "      <td>0</td>\n",
       "      <td>84</td>\n",
       "      <td>0</td>\n",
       "      <td>0</td>\n",
       "      <td>2</td>\n",
       "      <td>299.4</td>\n",
       "      <td>71</td>\n",
       "      <td>3.10</td>\n",
       "      <td>6.6</td>\n",
       "    </tr>\n",
       "    <tr>\n",
       "      <th>4</th>\n",
       "      <td>0</td>\n",
       "      <td>75</td>\n",
       "      <td>0</td>\n",
       "      <td>0</td>\n",
       "      <td>3</td>\n",
       "      <td>166.7</td>\n",
       "      <td>113</td>\n",
       "      <td>7.42</td>\n",
       "      <td>10.1</td>\n",
       "    </tr>\n",
       "  </tbody>\n",
       "</table>\n",
       "</div>"
      ],
      "text/plain": [
       "   Churn  AccountWeeks  ContractRenewal  DataPlan  CustServCalls  DayMins  \\\n",
       "0      0           128                1         1              1    265.1   \n",
       "1      0           107                1         1              1    161.6   \n",
       "2      0           137                1         0              0    243.4   \n",
       "3      0            84                0         0              2    299.4   \n",
       "4      0            75                0         0              3    166.7   \n",
       "\n",
       "   DayCalls  OverageFee  RoamMins  \n",
       "0       110        9.87      10.0  \n",
       "1       123        9.78      13.7  \n",
       "2       114        6.06      12.2  \n",
       "3        71        3.10       6.6  \n",
       "4       113        7.42      10.1  "
      ]
     },
     "execution_count": 2,
     "metadata": {},
     "output_type": "execute_result"
    }
   ],
   "source": [
    "# Split dataset\n",
    "y = df_features.Churn\n",
    "X = df_features.drop(\"Churn\", axis=1)\n",
    "\n",
    "# Create training set and test set from X and y, with a 80/20 split\n",
    "X_train, X_test, y_train, y_test = train_test_split(X, y, test_size = .2, random_state=5)\n",
    "df_features.head()"
   ]
  },
  {
   "cell_type": "code",
   "execution_count": 3,
   "metadata": {},
   "outputs": [
    {
     "data": {
      "text/plain": [
       "DecisionTreeClassifier(random_state=5)"
      ]
     },
     "execution_count": 3,
     "metadata": {},
     "output_type": "execute_result"
    }
   ],
   "source": [
    "# Create decision treee classifer\n",
    "dtc = DecisionTreeClassifier(random_state=5)\n",
    "\n",
    "# Train classifer with training set\n",
    "dtc.fit(X_train, y_train)"
   ]
  },
  {
   "cell_type": "code",
   "execution_count": 4,
   "metadata": {},
   "outputs": [
    {
     "name": "stdout",
     "output_type": "stream",
     "text": [
      "              precision    recall  f1-score   support\n",
      "\n",
      "           0       0.96      0.93      0.94       575\n",
      "           1       0.61      0.74      0.67        92\n",
      "\n",
      "    accuracy                           0.90       667\n",
      "   macro avg       0.78      0.83      0.81       667\n",
      "weighted avg       0.91      0.90      0.90       667\n",
      "\n"
     ]
    }
   ],
   "source": [
    "print(classification_report(y_test, dtc.predict(X_test)))"
   ]
  },
  {
   "cell_type": "code",
   "execution_count": 5,
   "metadata": {},
   "outputs": [],
   "source": [
    "def create_confusion_matrix(dtc, y_test, X_test, path):\n",
    "    confusion_tree=confusion_matrix(y_test, dtc.predict(X_test))\n",
    "    print(\"\\nconfusion matrix for tree(max_depth 4) after upsamling:\\n{}\".format(confusion_tree))\n",
    "\n",
    "    group_names = [\"True Negative\",\"False Positive\",\"False Negative\",\"True Positive\"]\n",
    "    group_counts = [\"{0:0.0f}\".format(value) for value in\n",
    "                    confusion_tree.flatten()]\n",
    "    group_percentages = [\"{0:.2%}\".format(value) for value in\n",
    "                         confusion_tree.flatten()/np.sum(confusion_tree)]\n",
    "    labels = [f\"{v1}\\n{v2}\\n{v3}\" for v1, v2, v3 in\n",
    "              zip(group_names,group_counts,group_percentages)]\n",
    "    labels = np.asarray(labels).reshape(2,2)\n",
    "    sns_plot = sns.heatmap(confusion_tree, annot=labels, fmt=\"\", cmap='Blues')\n",
    "    sns_plot.set_title(\"Confusion matrix\")\n",
    "    sns_plot.set_xlabel(\"Predicted\")\n",
    "    sns_plot.set_ylabel(\"Actual\")\n",
    "    sns_plot.figure.savefig(path)"
   ]
  },
  {
   "cell_type": "code",
   "execution_count": 6,
   "metadata": {},
   "outputs": [
    {
     "name": "stdout",
     "output_type": "stream",
     "text": [
      "\n",
      "confusion matrix for tree(max_depth 4) after upsamling:\n",
      "[[532  43]\n",
      " [ 24  68]]\n"
     ]
    },
    {
     "data": {
      "image/png": "[encoded data removed]",
      "text/plain": [
       "<Figure size 432x288 with 2 Axes>"
      ]
     },
     "metadata": {
      "needs_background": "light"
     },
     "output_type": "display_data"
    }
   ],
   "source": [
    "create_confusion_matrix(dtc, y_test, X_test, \"images/dt/confusion_matrix_original.jpg\")"
   ]
  },
  {
   "cell_type": "markdown",
   "metadata": {},
   "source": [
    "# Tuning Hyperparameters"
   ]
  },
  {
   "cell_type": "code",
   "execution_count": 7,
   "metadata": {},
   "outputs": [],
   "source": [
    "# KFold cross-validation\n",
    "\n",
    "cv_method = KFold(n_splits=10, shuffle=True, random_state=5)"
   ]
  },
  {
   "cell_type": "code",
   "execution_count": 8,
   "metadata": {},
   "outputs": [],
   "source": [
    "def tuning_hyperparameters(cv_method=cv_method):\n",
    "    tune_tree = DecisionTreeClassifier(random_state=5)\n",
    "\n",
    "    dt_parameters = {'max_depth': range(1,11),\n",
    "                   'max_features': range(4,19)}\n",
    "\n",
    "    dt_gridSearch = GridSearchCV(tune_tree, dt_parameters,\n",
    "    cv=cv_method, n_jobs=-1,\n",
    "    verbose=True)\n",
    "\n",
    "    dt_gridSearch.fit(X_train, y_train);\n",
    "    return dt_gridSearch"
   ]
  },
  {
   "cell_type": "code",
   "execution_count": 9,
   "metadata": {},
   "outputs": [
    {
     "name": "stdout",
     "output_type": "stream",
     "text": [
      "Fitting 10 folds for each of 150 candidates, totalling 1500 fits\n"
     ]
    },
    {
     "name": "stderr",
     "output_type": "stream",
     "text": [
      "[Parallel(n_jobs=-1)]: Using backend LokyBackend with 12 concurrent workers.\n",
      "[Parallel(n_jobs=-1)]: Done  26 tasks      | elapsed:    1.4s\n",
      "[Parallel(n_jobs=-1)]: Done 970 tasks      | elapsed:    2.3s\n",
      "[Parallel(n_jobs=-1)]: Done 1500 out of 1500 | elapsed:    2.6s finished\n"
     ]
    },
    {
     "data": {
      "text/plain": [
       "DecisionTreeClassifier(max_depth=7, max_features=6, random_state=5)"
      ]
     },
     "execution_count": 9,
     "metadata": {},
     "output_type": "execute_result"
    }
   ],
   "source": [
    "# GrdiSearch for tuning hyperparameters\n",
    "\n",
    "gridSearch_tuned = tuning_hyperparameters()\n",
    "best_tuned_clf = gridSearch_tuned.best_estimator_\n",
    "gridSearch_tuned.best_estimator_"
   ]
  },
  {
   "cell_type": "code",
   "execution_count": 10,
   "metadata": {},
   "outputs": [
    {
     "name": "stdout",
     "output_type": "stream",
     "text": [
      "              precision    recall  f1-score   support\n",
      "\n",
      "           0       0.94      0.98      0.96       575\n",
      "           1       0.87      0.63      0.73        92\n",
      "\n",
      "    accuracy                           0.94       667\n",
      "   macro avg       0.90      0.81      0.85       667\n",
      "weighted avg       0.93      0.94      0.93       667\n",
      "\n"
     ]
    }
   ],
   "source": [
    "# Print classification report\n",
    "\n",
    "print(classification_report(y_test, best_tuned_clf.predict(X_test)))"
   ]
  },
  {
   "cell_type": "code",
   "execution_count": 11,
   "metadata": {},
   "outputs": [
    {
     "name": "stdout",
     "output_type": "stream",
     "text": [
      "\n",
      "confusion matrix for tree(max_depth 4) after upsamling:\n",
      "[[566   9]\n",
      " [ 34  58]]\n"
     ]
    },
    {
     "data": {
      "image/png": "[encoded data removed]",
      "text/plain": [
       "<Figure size 432x288 with 2 Axes>"
      ]
     },
     "metadata": {
      "needs_background": "light"
     },
     "output_type": "display_data"
    }
   ],
   "source": [
    "# Visualize confusion matrix\n",
    "\n",
    "create_confusion_matrix(best_tuned_clf, y_test, X_test, \"images/dt/confusion_matrix_original_tuned.jpg\")"
   ]
  },
  {
   "cell_type": "markdown",
   "metadata": {},
   "source": [
    "# SMOTETomek Resampling"
   ]
  },
  {
   "cell_type": "code",
   "execution_count": 12,
   "metadata": {},
   "outputs": [],
   "source": [
    "# Methods for resampling\n",
    "def resample_SMOTE(X_train, y_train, random_state):\n",
    "    smt = SMOTETomek(sampling_strategy=1.0, random_state=random_state)\n",
    "    X_smt, y_smt = smt.fit_sample(X, y)\n",
    "\n",
    "    return X_smt, y_smt"
   ]
  },
  {
   "cell_type": "code",
   "execution_count": 13,
   "metadata": {},
   "outputs": [],
   "source": [
    "# Create training set and test set from X and y\n",
    "X_train, X_test, y_train, y_test = train_test_split(X, y, test_size = .2, random_state=5)\n",
    "\n",
    "# Create resampled training set\n",
    "X_train, y_train = resample_SMOTE(X_train, y_train, 5)"
   ]
  },
  {
   "cell_type": "code",
   "execution_count": 14,
   "metadata": {},
   "outputs": [
    {
     "data": {
      "text/plain": [
       "DecisionTreeClassifier(random_state=5)"
      ]
     },
     "execution_count": 14,
     "metadata": {},
     "output_type": "execute_result"
    }
   ],
   "source": [
    "# Declare decision tree classifer\n",
    "dtc = DecisionTreeClassifier(random_state=5)\n",
    "\n",
    "# Train classifer with training set\n",
    "dtc.fit(X_train, y_train)"
   ]
  },
  {
   "cell_type": "code",
   "execution_count": 15,
   "metadata": {},
   "outputs": [
    {
     "name": "stdout",
     "output_type": "stream",
     "text": [
      "              precision    recall  f1-score   support\n",
      "\n",
      "           0       1.00      1.00      1.00       575\n",
      "           1       0.98      1.00      0.99        92\n",
      "\n",
      "    accuracy                           1.00       667\n",
      "   macro avg       0.99      1.00      0.99       667\n",
      "weighted avg       1.00      1.00      1.00       667\n",
      "\n"
     ]
    }
   ],
   "source": [
    "# Print classification report\n",
    "\n",
    "print(classification_report(y_test, dtc.predict(X_test)))"
   ]
  },
  {
   "cell_type": "code",
   "execution_count": 16,
   "metadata": {},
   "outputs": [
    {
     "name": "stdout",
     "output_type": "stream",
     "text": [
      "\n",
      "confusion matrix for tree(max_depth 4) after upsamling:\n",
      "[[573   2]\n",
      " [  0  92]]\n"
     ]
    },
    {
     "data": {
      "image/png": "[encoded data removed]",
      "text/plain": [
       "<Figure size 432x288 with 2 Axes>"
      ]
     },
     "metadata": {
      "needs_background": "light"
     },
     "output_type": "display_data"
    }
   ],
   "source": [
    "# Confusion matrix for resampled dataset\n",
    "\n",
    "create_confusion_matrix(dtc, y_test, X_test, \"images/dt/confusion_matrix_dt.jpg\")"
   ]
  },
  {
   "cell_type": "markdown",
   "metadata": {},
   "source": [
    "# Tunining Hyperparameters with resampled dataset"
   ]
  },
  {
   "cell_type": "code",
   "execution_count": 17,
   "metadata": {},
   "outputs": [],
   "source": [
    "# KFold cross_validation \n",
    "\n",
    "cv_method = KFold(n_splits=10, shuffle=True, random_state=5)"
   ]
  },
  {
   "cell_type": "code",
   "execution_count": 18,
   "metadata": {},
   "outputs": [
    {
     "name": "stdout",
     "output_type": "stream",
     "text": [
      "Fitting 10 folds for each of 150 candidates, totalling 1500 fits\n"
     ]
    },
    {
     "name": "stderr",
     "output_type": "stream",
     "text": [
      "[Parallel(n_jobs=-1)]: Using backend LokyBackend with 12 concurrent workers.\n",
      "[Parallel(n_jobs=-1)]: Done  28 tasks      | elapsed:    0.1s\n",
      "[Parallel(n_jobs=-1)]: Done 1202 tasks      | elapsed:    1.2s\n",
      "[Parallel(n_jobs=-1)]: Done 1500 out of 1500 | elapsed:    1.5s finished\n"
     ]
    },
    {
     "data": {
      "text/plain": [
       "DecisionTreeClassifier(max_depth=8, max_features=8, random_state=5)"
      ]
     },
     "execution_count": 18,
     "metadata": {},
     "output_type": "execute_result"
    }
   ],
   "source": [
    "# GrdiSearch for tuning hyperparameters\n",
    "\n",
    "gridSearch_tuned = tuning_hyperparameters()\n",
    "best_tuned_clf = gridSearch_tuned.best_estimator_\n",
    "gridSearch_tuned.best_estimator_"
   ]
  },
  {
   "cell_type": "code",
   "execution_count": 19,
   "metadata": {},
   "outputs": [
    {
     "name": "stdout",
     "output_type": "stream",
     "text": [
      "              precision    recall  f1-score   support\n",
      "\n",
      "           0       0.99      0.96      0.97       575\n",
      "           1       0.80      0.91      0.85        92\n",
      "\n",
      "    accuracy                           0.96       667\n",
      "   macro avg       0.89      0.94      0.91       667\n",
      "weighted avg       0.96      0.96      0.96       667\n",
      "\n"
     ]
    }
   ],
   "source": [
    "# Print classification report\n",
    "\n",
    "print(classification_report(y_test, best_tuned_clf.predict(X_test)))"
   ]
  },
  {
   "cell_type": "code",
   "execution_count": 20,
   "metadata": {},
   "outputs": [
    {
     "name": "stdout",
     "output_type": "stream",
     "text": [
      "\n",
      "confusion matrix for tree(max_depth 4) after upsamling:\n",
      "[[554  21]\n",
      " [  8  84]]\n"
     ]
    },
    {
     "data": {
      "image/png": "[encoded data removed]",
      "text/plain": [
       "<Figure size 432x288 with 2 Axes>"
      ]
     },
     "metadata": {
      "needs_background": "light"
     },
     "output_type": "display_data"
    }
   ],
   "source": [
    "create_confusion_matrix(best_tuned_clf, y_test, X_test, \"images/dt/confusion_matrix_dt_tuned.jpg\")"
   ]
  },
  {
   "cell_type": "code",
   "execution_count": null,
   "metadata": {},
   "outputs": [],
   "source": []
  }
 ],
 "metadata": {
  "kernelspec": {
   "display_name": "Python 3",
   "language": "python",
   "name": "python3"
  },
  "language_info": {
   "codemirror_mode": {
    "name": "ipython",
    "version": 3
   },
   "file_extension": ".py",
   "mimetype": "text/x-python",
   "name": "python",
   "nbconvert_exporter": "python",
   "pygments_lexer": "ipython3",
   "version": "3.8.3"
  }
 },
 "nbformat": 4,
 "nbformat_minor": 4
}
