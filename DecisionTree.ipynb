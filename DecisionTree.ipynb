{
 "cells": [
  {
   "cell_type": "markdown",
   "metadata": {},
   "source": [
    "# Decision Tree"
   ]
  },
  {
   "cell_type": "markdown",
   "metadata": {},
   "source": [
    "# Imports\n",
    "\n",
    "Necessary imports "
   ]
  },
  {
   "cell_type": "code",
   "execution_count": null,
   "metadata": {},
   "outputs": [],
   "source": [
    "# Imports necessary imports\n",
    "import numpy as np\n",
    "import pandas as pd\n",
    "import imblearn\n",
    "import seaborn as sns\n",
    "from sklearn.model_selection import train_test_split, GridSearchCV, KFold\n",
    "from sklearn.tree import DecisionTreeClassifier\n",
    "from imblearn.combine import SMOTETomek\n",
    "from sklearn.metrics import confusion_matrix, classification_report"
   ]
  },
  {
   "cell_type": "markdown",
   "metadata": {},
   "source": [
    "# Get dataset and feature selecting"
   ]
  },
  {
   "cell_type": "code",
   "execution_count": null,
   "metadata": {},
   "outputs": [],
   "source": [
    "# Get dataset\n",
    "df = pd.read_csv('telecom_churn.csv')\n",
    "\n",
    "# Remove the features MonthlyCharge and DataUsage from dataset\n",
    "df_features = df.drop([\"MonthlyCharge\", \"DataUsage\"], axis=1)"
   ]
  },
  {
   "cell_type": "markdown",
   "metadata": {},
   "source": [
    "# Split dataframe into two dataframes"
   ]
  },
  {
   "cell_type": "code",
   "execution_count": null,
   "metadata": {},
   "outputs": [],
   "source": [
    "# Split datafram into a datafram with only the feature Churn and one dataframe with all other features except Churn\n",
    "y = df_features.Churn\n",
    "X = df_features.drop(\"Churn\", axis=1)"
   ]
  },
  {
   "cell_type": "markdown",
   "metadata": {},
   "source": [
    "# Part 1"
   ]
  },
  {
   "cell_type": "markdown",
   "metadata": {},
   "source": [
    "### Split in training set and test set\n",
    "Splits the data into three parts; Train and test set. Training set for training and test set to train the data"
   ]
  },
  {
   "cell_type": "code",
   "execution_count": null,
   "metadata": {},
   "outputs": [],
   "source": [
    "# Create training set and test set from X and y, with a 80/20 split\n",
    "X_train, X_test, y_train, y_test = train_test_split(X, y, test_size = .2, random_state=5)"
   ]
  },
  {
   "cell_type": "markdown",
   "metadata": {},
   "source": [
    "### Classifier\n",
    "Trains the classifier"
   ]
  },
  {
   "cell_type": "code",
   "execution_count": null,
   "metadata": {},
   "outputs": [],
   "source": [
    "# Create decision treee classifer\n",
    "dtc = DecisionTreeClassifier(random_state=5)\n",
    "\n",
    "# Train classifer with training set\n",
    "dtc.fit(X_train, y_train)"
   ]
  },
  {
   "cell_type": "markdown",
   "metadata": {},
   "source": [
    "#### Classification report and confusion matrix"
   ]
  },
  {
   "cell_type": "code",
   "execution_count": null,
   "metadata": {},
   "outputs": [],
   "source": [
    "print(classification_report(y_test, dtc.predict(X_test)))"
   ]
  },
  {
   "cell_type": "code",
   "execution_count": null,
   "metadata": {},
   "outputs": [],
   "source": [
    "# The code below is taken from\n",
    "# https://medium.com/@dtuk81/confusion-matrix-visualization-fc31e3f30fea\n",
    "# with minor changes\n",
    "def create_confusion_matrix(dtc, y_test, X_test, path):\n",
    "    confusion_tree=confusion_matrix(y_test, dtc.predict(X_test))\n",
    "    print(\"\\nconfusion matrix for tree(max_depth 4) after upsamling:\\n{}\".format(confusion_tree))\n",
    "\n",
    "    group_names = [\"True Negative\",\"False Positive\",\"False Negative\",\"True Positive\"]\n",
    "    group_counts = [\"{0:0.0f}\".format(value) for value in\n",
    "                    confusion_tree.flatten()]\n",
    "    group_percentages = [\"{0:.2%}\".format(value) for value in\n",
    "                         confusion_tree.flatten()/np.sum(confusion_tree)]\n",
    "    labels = [f\"{v1}\\n{v2}\\n{v3}\" for v1, v2, v3 in\n",
    "              zip(group_names,group_counts,group_percentages)]\n",
    "    labels = np.asarray(labels).reshape(2,2)\n",
    "    sns_plot = sns.heatmap(confusion_tree, annot=labels, fmt=\"\", cmap='Blues')\n",
    "    sns_plot.set_title(\"Confusion matrix\")\n",
    "    sns_plot.set_xlabel(\"Predicted\")\n",
    "    sns_plot.set_ylabel(\"Actual\")\n",
    "    sns_plot.figure.savefig(path)"
   ]
  },
  {
   "cell_type": "code",
   "execution_count": null,
   "metadata": {},
   "outputs": [],
   "source": [
    "create_confusion_matrix(dtc, y_test, X_test, \"images/dt/confusion_matrix_dt_original.jpg\")"
   ]
  },
  {
   "cell_type": "markdown",
   "metadata": {},
   "source": [
    "### Tuning Hyperparameters with KFold and GridSearchCV"
   ]
  },
  {
   "cell_type": "code",
   "execution_count": null,
   "metadata": {},
   "outputs": [],
   "source": [
    "# KFold cross-validation\n",
    "\n",
    "cv_method = KFold(n_splits=10, shuffle=True, random_state=5)"
   ]
  },
  {
   "cell_type": "code",
   "execution_count": null,
   "metadata": {},
   "outputs": [],
   "source": [
    "# This code is taken from\n",
    "# https://www.featureranking.com/tutorials/machine-learning-tutorials/sk-part-3-cross-validation-and-hyperparameter-tuning/\n",
    "# With minor changes\n",
    "def tuning_hyperparameters(cv_method=cv_method):\n",
    "    tune_tree = DecisionTreeClassifier(random_state=5)\n",
    "\n",
    "    dt_parameters = {'max_depth': range(1,11),\n",
    "                   'max_features': range(4,19)}\n",
    "\n",
    "    dt_gridSearch = GridSearchCV(tune_tree, dt_parameters,\n",
    "    cv=cv_method, n_jobs=-1,\n",
    "    verbose=True)\n",
    "\n",
    "    dt_gridSearch.fit(X_train, y_train);\n",
    "    return dt_gridSearch"
   ]
  },
  {
   "cell_type": "markdown",
   "metadata": {},
   "source": [
    "####  Tuning hyperparameters for classifer"
   ]
  },
  {
   "cell_type": "code",
   "execution_count": null,
   "metadata": {},
   "outputs": [],
   "source": [
    "# GrdiSearch for tuning hyperparameters\n",
    "\n",
    "gridSearch_tuned = tuning_hyperparameters()\n",
    "best_tuned_clf = gridSearch_tuned.best_estimator_\n",
    "gridSearch_tuned.best_estimator_"
   ]
  },
  {
   "cell_type": "code",
   "execution_count": null,
   "metadata": {},
   "outputs": [],
   "source": [
    "# Print classification report\n",
    "\n",
    "print(classification_report(y_test, best_tuned_clf.predict(X_test)))"
   ]
  },
  {
   "cell_type": "code",
   "execution_count": null,
   "metadata": {},
   "outputs": [],
   "source": [
    "# Visualize confusion matrix\n",
    "\n",
    "create_confusion_matrix(best_tuned_clf, y_test, X_test, \"images/dt/confusion_matrix_dt_original_tuned.jpg\")"
   ]
  },
  {
   "cell_type": "markdown",
   "metadata": {},
   "source": [
    "# Part 2"
   ]
  },
  {
   "cell_type": "markdown",
   "metadata": {},
   "source": [
    "### SMOTETomek Resampling"
   ]
  },
  {
   "cell_type": "code",
   "execution_count": null,
   "metadata": {},
   "outputs": [],
   "source": [
    "# Methods for resampling\n",
    "def resample_SMOTE(X_train, y_train, random_state):\n",
    "    smt = SMOTETomek(sampling_strategy=1.0, random_state=random_state)\n",
    "    X_smt, y_smt = smt.fit_sample(X, y)\n",
    "\n",
    "    return X_smt, y_smt"
   ]
  },
  {
   "cell_type": "markdown",
   "metadata": {},
   "source": [
    "### Split in training set and test set and resample with SMOTETomek\n",
    "Splits the data into three parts; Train and test set. Training set for training and test set to train the data. Resampling the training set with SMOTETomek."
   ]
  },
  {
   "cell_type": "code",
   "execution_count": null,
   "metadata": {},
   "outputs": [],
   "source": [
    "# Create training set and test set from X and y\n",
    "X_train, X_test, y_train, y_test = train_test_split(X, y, test_size = .2, random_state=5)\n",
    "\n",
    "# Create resampled training set\n",
    "X_train, y_train = resample_SMOTE(X_train, y_train, 5)"
   ]
  },
  {
   "cell_type": "markdown",
   "metadata": {},
   "source": [
    "### Classifier\n",
    "Trains the classifier"
   ]
  },
  {
   "cell_type": "code",
   "execution_count": null,
   "metadata": {},
   "outputs": [],
   "source": [
    "# Declare decision tree classifer\n",
    "dtc = DecisionTreeClassifier(random_state=5)\n",
    "\n",
    "# Train classifer with training set\n",
    "dtc.fit(X_train, y_train)"
   ]
  },
  {
   "cell_type": "markdown",
   "metadata": {},
   "source": [
    "### Classification report and confusion matrix"
   ]
  },
  {
   "cell_type": "code",
   "execution_count": null,
   "metadata": {},
   "outputs": [],
   "source": [
    "# Print classification report\n",
    "\n",
    "print(classification_report(y_test, dtc.predict(X_test)))"
   ]
  },
  {
   "cell_type": "code",
   "execution_count": null,
   "metadata": {},
   "outputs": [],
   "source": [
    "# Confusion matrix for resampled dataset\n",
    "\n",
    "create_confusion_matrix(dtc, y_test, X_test, \"images/dt/confusion_matrix_dt.jpg\")"
   ]
  },
  {
   "cell_type": "markdown",
   "metadata": {},
   "source": [
    "### Tunining Hyperparameters with resampled dataset, KFold and GridSearchCV"
   ]
  },
  {
   "cell_type": "code",
   "execution_count": null,
   "metadata": {},
   "outputs": [],
   "source": [
    "# KFold cross_validation \n",
    "\n",
    "cv_method = KFold(n_splits=10, shuffle=True, random_state=5)"
   ]
  },
  {
   "cell_type": "markdown",
   "metadata": {},
   "source": [
    "#### Tuning hyperparameters"
   ]
  },
  {
   "cell_type": "code",
   "execution_count": null,
   "metadata": {},
   "outputs": [],
   "source": [
    "# GrdiSearch for tuning hyperparameters\n",
    "\n",
    "gridSearch_tuned = tuning_hyperparameters()\n",
    "best_tuned_clf = gridSearch_tuned.best_estimator_\n",
    "gridSearch_tuned.best_estimator_"
   ]
  },
  {
   "cell_type": "markdown",
   "metadata": {},
   "source": [
    "#### Classification report and confusion matrix"
   ]
  },
  {
   "cell_type": "code",
   "execution_count": null,
   "metadata": {},
   "outputs": [],
   "source": [
    "# Print classification report\n",
    "\n",
    "print(classification_report(y_test, best_tuned_clf.predict(X_test)))"
   ]
  },
  {
   "cell_type": "code",
   "execution_count": null,
   "metadata": {},
   "outputs": [],
   "source": [
    "create_confusion_matrix(best_tuned_clf, y_test, X_test, \"images/dt/confusion_matrix_dt_tuned.jpg\")"
   ]
  }
 ],
 "metadata": {
  "kernelspec": {
   "display_name": "Python 3",
   "language": "python",
   "name": "python3"
  },
  "language_info": {
   "codemirror_mode": {
    "name": "ipython",
    "version": 3
   },
   "file_extension": ".py",
   "mimetype": "text/x-python",
   "name": "python",
   "nbconvert_exporter": "python",
   "pygments_lexer": "ipython3",
   "version": "3.9.0"
  }
 },
 "nbformat": 4,
 "nbformat_minor": 4
}
