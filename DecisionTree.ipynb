{
 "cells": [
  {
   "cell_type": "code",
   "execution_count": 68,
   "metadata": {},
   "outputs": [],
   "source": [
    "# imports\n",
    "import numpy as np \n",
    "import pandas as pd\n",
    "import seaborn as sns\n",
    "from sklearn.model_selection import train_test_split, GridSearchCV\n",
    "from sklearn.model_selection import cross_val_score\n",
    "\n",
    "from sklearn.tree import DecisionTreeClassifier\n",
    "\n",
    "from sklearn.metrics import accuracy_score, confusion_matrix, classification_report\n",
    "from sklearn.metrics import precision_recall_curve, auc, roc_curve"
   ]
  },
  {
   "cell_type": "code",
   "execution_count": 69,
   "metadata": {},
   "outputs": [],
   "source": [
    "# read file\n",
    "df = pd.read_csv(\"telecom_churn.csv\")\n",
    "\n",
    "#dat preperation\n",
    "y = df.Churn\n",
    "X = df.drop(\"Churn\", axis=1)\n",
    "\n",
    "X_trainval, X_test, y_trainval, y_test = train_test_split(X, y ,test_size=0.2, random_state=5)\n",
    "\n",
    "X_train, X_valid, y_train, y_valid = train_test_split(X_trainval, y_trainval, test_size=0.2, random_state=5)"
   ]
  },
  {
   "cell_type": "markdown",
   "metadata": {},
   "source": [
    "# Feature"
   ]
  },
  {
   "cell_type": "code",
   "execution_count": 70,
   "metadata": {},
   "outputs": [
    {
     "data": {
      "text/plain": [
       "array([0.90819672, 0.8852459 , 0.86557377, 0.86885246, 0.84868421,\n",
       "       0.88486842, 0.875     ])"
      ]
     },
     "execution_count": 70,
     "metadata": {},
     "output_type": "execute_result"
    }
   ],
   "source": [
    "clf = DecisionTreeClassifier(random_state=5)\n",
    "cross_val_score(clf, X_train, y_train, cv=7)"
   ]
  },
  {
   "cell_type": "code",
   "execution_count": 71,
   "metadata": {},
   "outputs": [
    {
     "name": "stdout",
     "output_type": "stream",
     "text": [
      "0.8726591760299626\n"
     ]
    }
   ],
   "source": [
    "clf.fit(X_train, y_train)\n",
    "print(accuracy_score(y_valid, clf.predict(X_valid)))"
   ]
  },
  {
   "cell_type": "code",
   "execution_count": 72,
   "metadata": {},
   "outputs": [
    {
     "data": {
      "text/plain": [
       "array([0.07302401, 0.07284572, 0.04529514, 0.04957783, 0.08978838,\n",
       "       0.26332763, 0.05836769, 0.04702324, 0.18166278, 0.11908758])"
      ]
     },
     "execution_count": 72,
     "metadata": {},
     "output_type": "execute_result"
    }
   ],
   "source": [
    "clf.feature_importances_"
   ]
  },
  {
   "cell_type": "code",
   "execution_count": 73,
   "metadata": {},
   "outputs": [
    {
     "data": {
      "text/plain": [
       "[('DayMins', 0.2633276326588507),\n",
       " ('OverageFee', 0.18166278096485472),\n",
       " ('RoamMins', 0.11908757611946662),\n",
       " ('CustServCalls', 0.08978837632765888),\n",
       " ('AccountWeeks', 0.07302401302668503),\n",
       " ('ContractRenewal', 0.07284571977565822),\n",
       " ('DayCalls', 0.058367687648731514),\n",
       " ('DataUsage', 0.04957783438473902),\n",
       " ('MonthlyCharge', 0.04702324304685946),\n",
       " ('DataPlan', 0.04529513604649586)]"
      ]
     },
     "execution_count": 73,
     "metadata": {},
     "output_type": "execute_result"
    }
   ],
   "source": [
    "def sortSecond(val):\n",
    "    return val[1]\n",
    "values = clf.feature_importances_\n",
    "features = list(X)\n",
    "importances = [(features[i], values[i]) for i in range(len(features))]\n",
    "importances.sort(reverse=True, key=sortSecond)\n",
    "importances"
   ]
  },
  {
   "cell_type": "code",
   "execution_count": 74,
   "metadata": {},
   "outputs": [
    {
     "name": "stdout",
     "output_type": "stream",
     "text": [
      "All features: 0.187616\n",
      "Top 15 features: 0.102336\n"
     ]
    }
   ],
   "source": [
    "print ('All features:', X_train.memory_usage(index=True).sum()/1000000)\n",
    "print ('Top 15 features:', X_train[[col[0] for col in importances[:5]]].memory_usage(index=True).sum()/1000000)"
   ]
  },
  {
   "cell_type": "code",
   "execution_count": 75,
   "metadata": {},
   "outputs": [
    {
     "name": "stdout",
     "output_type": "stream",
     "text": [
      "0.8689138576779026\n"
     ]
    }
   ],
   "source": [
    "X_train_cut = X_train[[col[0] for col in importances[:5]]]\n",
    "X_valid_cut = X_valid[[col[0] for col in importances[:5]]]\n",
    "cut_clf = DecisionTreeClassifier(random_state=5)\n",
    "cut_clf.fit(X_train_cut, y_train)\n",
    "print(accuracy_score(y_valid, cut_clf.predict(X_valid_cut)))"
   ]
  },
  {
   "cell_type": "code",
   "execution_count": 76,
   "metadata": {},
   "outputs": [
    {
     "name": "stdout",
     "output_type": "stream",
     "text": [
      "              precision    recall  f1-score   support\n",
      "\n",
      "           0       0.92      0.90      0.91       575\n",
      "           1       0.45      0.50      0.47        92\n",
      "\n",
      "    accuracy                           0.85       667\n",
      "   macro avg       0.68      0.70      0.69       667\n",
      "weighted avg       0.85      0.85      0.85       667\n",
      "\n"
     ]
    }
   ],
   "source": [
    "X_test_cut = X_test[[col[0] for col in importances[:5]]]\n",
    "\n",
    "print(classification_report(y_test, cut_clf.predict(X_test_cut)))"
   ]
  },
  {
   "cell_type": "code",
   "execution_count": 77,
   "metadata": {},
   "outputs": [
    {
     "name": "stdout",
     "output_type": "stream",
     "text": [
      "\n",
      "confusion matrix for tree(max_depth 4) after upsamling:\n",
      "[[518  57]\n",
      " [ 46  46]]\n"
     ]
    },
    {
     "data": {
      "image/png": "[encoded data removed]",
      "text/plain": [
       "<Figure size 432x288 with 2 Axes>"
      ]
     },
     "metadata": {
      "needs_background": "light"
     },
     "output_type": "display_data"
    }
   ],
   "source": [
    "confusion_tree=confusion_matrix(y_test,  cut_clf.predict(X_test_cut))\n",
    "print(\"\\nconfusion matrix for tree(max_depth 4) after upsamling:\\n{}\".format(confusion_tree))\n",
    "\n",
    "group_names = [\"True Negative\",\"False Positive\",\"False Negative\",\"True Positive\"]\n",
    "group_counts = [\"{0:0.0f}\".format(value) for value in\n",
    "                confusion_tree.flatten()]\n",
    "group_percentages = [\"{0:.2%}\".format(value) for value in\n",
    "                     confusion_tree.flatten()/np.sum(confusion_tree)]\n",
    "labels = [f\"{v1}\\n{v2}\\n{v3}\" for v1, v2, v3 in\n",
    "          zip(group_names,group_counts,group_percentages)]\n",
    "labels = np.asarray(labels).reshape(2,2)\n",
    "sns_plot = sns.heatmap(confusion_tree, annot=labels, fmt=\"\", cmap='Blues')"
   ]
  },
  {
   "cell_type": "markdown",
   "metadata": {},
   "source": [
    "# Tuning Hyparameters"
   ]
  },
  {
   "cell_type": "code",
   "execution_count": 78,
   "metadata": {},
   "outputs": [],
   "source": [
    "from sklearn.model_selection import RepeatedStratifiedKFold\n",
    "\n",
    "cv_method = RepeatedStratifiedKFold(n_splits=10, \n",
    "                                    n_repeats=3, \n",
    "                                    random_state=5)"
   ]
  },
  {
   "cell_type": "code",
   "execution_count": 79,
   "metadata": {},
   "outputs": [
    {
     "name": "stdout",
     "output_type": "stream",
     "text": [
      "Fitting 30 folds for each of 576 candidates, totalling 17280 fits\n"
     ]
    },
    {
     "name": "stderr",
     "output_type": "stream",
     "text": [
      "[Parallel(n_jobs=-1)]: Using backend LokyBackend with 12 concurrent workers.\n",
      "[Parallel(n_jobs=-1)]: Done  28 tasks      | elapsed:    0.1s\n",
      "[Parallel(n_jobs=-1)]: Done 2536 tasks      | elapsed:    2.1s\n",
      "[Parallel(n_jobs=-1)]: Done 10536 tasks      | elapsed:    7.7s\n",
      "[Parallel(n_jobs=-1)]: Done 17280 out of 17280 | elapsed:   12.9s finished\n"
     ]
    }
   ],
   "source": [
    "from sklearn.tree import DecisionTreeClassifier\n",
    "\n",
    "df_classifier = DecisionTreeClassifier(random_state=5)\n",
    "\n",
    "params_DT = {'criterion': ['gini', 'entropy'],\n",
    "                  'splitter': ['best', 'random'],\n",
    "                  'max_depth': [1, 2, 3, 4, 5, 6, 7, 8],\n",
    "                  'max_features': [1, 2, 3, 4, 5 ,6],\n",
    "                 'min_samples_split': [2, 3, 4]}\n",
    "\n",
    "gs_DT = GridSearchCV(estimator=df_classifier, \n",
    "                     param_grid=params_DT, \n",
    "                     cv=cv_method,\n",
    "                     n_jobs=-1,\n",
    "                     verbose=1, \n",
    "                     scoring='accuracy')\n",
    "\n",
    "gs_DT.fit(X_train, y_train);"
   ]
  },
  {
   "cell_type": "code",
   "execution_count": 80,
   "metadata": {},
   "outputs": [],
   "source": [
    "best_tuned_clf = gs_DT.best_estimator_"
   ]
  },
  {
   "cell_type": "code",
   "execution_count": 81,
   "metadata": {},
   "outputs": [
    {
     "name": "stdout",
     "output_type": "stream",
     "text": [
      "0.9288389513108615\n"
     ]
    }
   ],
   "source": [
    "print(accuracy_score(y_valid, best_tuned_clf.predict(X_valid)))"
   ]
  },
  {
   "cell_type": "code",
   "execution_count": 82,
   "metadata": {},
   "outputs": [
    {
     "name": "stdout",
     "output_type": "stream",
     "text": [
      "              precision    recall  f1-score   support\n",
      "\n",
      "           0       0.94      0.98      0.96       575\n",
      "           1       0.82      0.63      0.71        92\n",
      "\n",
      "    accuracy                           0.93       667\n",
      "   macro avg       0.88      0.80      0.84       667\n",
      "weighted avg       0.93      0.93      0.93       667\n",
      "\n"
     ]
    }
   ],
   "source": [
    "print(classification_report(y_test, best_tuned_clf.predict(X_test)))"
   ]
  },
  {
   "cell_type": "code",
   "execution_count": 83,
   "metadata": {},
   "outputs": [
    {
     "name": "stdout",
     "output_type": "stream",
     "text": [
      "\n",
      "confusion matrix for tree(max_depth 4) after upsamling:\n",
      "[[562  13]\n",
      " [ 34  58]]\n"
     ]
    },
    {
     "data": {
      "image/png": "[encoded data removed]",
      "text/plain": [
       "<Figure size 432x288 with 2 Axes>"
      ]
     },
     "metadata": {
      "needs_background": "light"
     },
     "output_type": "display_data"
    }
   ],
   "source": [
    "confusion_tree=confusion_matrix(y_test,  best_tuned_clf.predict(X_test))\n",
    "print(\"\\nconfusion matrix for tree(max_depth 4) after upsamling:\\n{}\".format(confusion_tree))\n",
    "\n",
    "group_names = [\"True Negative\",\"False Positive\",\"False Negative\",\"True Positive\"]\n",
    "group_counts = [\"{0:0.0f}\".format(value) for value in\n",
    "                confusion_tree.flatten()]\n",
    "group_percentages = [\"{0:.2%}\".format(value) for value in\n",
    "                     confusion_tree.flatten()/np.sum(confusion_tree)]\n",
    "labels = [f\"{v1}\\n{v2}\\n{v3}\" for v1, v2, v3 in\n",
    "          zip(group_names,group_counts,group_percentages)]\n",
    "labels = np.asarray(labels).reshape(2,2)\n",
    "sns_plot = sns.heatmap(confusion_tree, annot=labels, fmt=\"\", cmap='Blues')"
   ]
  },
  {
   "cell_type": "markdown",
   "metadata": {},
   "source": [
    "# Featuring and Tuning Hyperparameters"
   ]
  },
  {
   "cell_type": "code",
   "execution_count": 84,
   "metadata": {},
   "outputs": [],
   "source": [
    "X_train = X_train[[col[0] for col in importances[:5]]]\n",
    "X_valid = X_valid[[col[0] for col in importances[:5]]]"
   ]
  },
  {
   "cell_type": "code",
   "execution_count": 85,
   "metadata": {},
   "outputs": [
    {
     "name": "stderr",
     "output_type": "stream",
     "text": [
      "[Parallel(n_jobs=-1)]: Using backend LokyBackend with 12 concurrent workers.\n"
     ]
    },
    {
     "name": "stdout",
     "output_type": "stream",
     "text": [
      "Fitting 30 folds for each of 576 candidates, totalling 17280 fits\n"
     ]
    },
    {
     "name": "stderr",
     "output_type": "stream",
     "text": [
      "[Parallel(n_jobs=-1)]: Done  28 tasks      | elapsed:    0.1s\n",
      "[Parallel(n_jobs=-1)]: Done 2536 tasks      | elapsed:    2.2s\n",
      "[Parallel(n_jobs=-1)]: Done 10536 tasks      | elapsed:    7.9s\n",
      "[Parallel(n_jobs=-1)]: Done 17280 out of 17280 | elapsed:   13.3s finished\n"
     ]
    }
   ],
   "source": [
    "df_classifier = DecisionTreeClassifier(random_state=5)\n",
    "\n",
    "params_DT = {'criterion': ['gini', 'entropy'],\n",
    "                  'splitter': ['best', 'random'],\n",
    "                  'max_depth': [1, 2, 3, 4, 5, 6, 7, 8],\n",
    "                  'max_features': [1, 2, 3, 4, 5 ,6],\n",
    "                 'min_samples_split': [2, 3, 4]}\n",
    "\n",
    "gs_DT = GridSearchCV(estimator=df_classifier, \n",
    "                     param_grid=params_DT, \n",
    "                     cv=cv_method,\n",
    "                     n_jobs=-1,\n",
    "                     verbose=1, \n",
    "                     scoring='accuracy')\n",
    "\n",
    "gs_DT.fit(X_train, y_train);"
   ]
  },
  {
   "cell_type": "code",
   "execution_count": 86,
   "metadata": {},
   "outputs": [],
   "source": [
    "bestcut_clf = gs_DT.best_estimator_"
   ]
  },
  {
   "cell_type": "code",
   "execution_count": 87,
   "metadata": {},
   "outputs": [
    {
     "name": "stdout",
     "output_type": "stream",
     "text": [
      "0.9119850187265918\n"
     ]
    }
   ],
   "source": [
    "print(accuracy_score(y_valid, bestcut_clf.predict(X_valid)))"
   ]
  },
  {
   "cell_type": "code",
   "execution_count": 88,
   "metadata": {},
   "outputs": [
    {
     "name": "stdout",
     "output_type": "stream",
     "text": [
      "              precision    recall  f1-score   support\n",
      "\n",
      "           0       0.93      0.96      0.95       575\n",
      "           1       0.71      0.58      0.63        92\n",
      "\n",
      "    accuracy                           0.91       667\n",
      "   macro avg       0.82      0.77      0.79       667\n",
      "weighted avg       0.90      0.91      0.90       667\n",
      "\n"
     ]
    }
   ],
   "source": [
    "X_test_cut = X_test[[col[0] for col in importances[:5]]]\n",
    "print(classification_report(y_test, bestcut_clf.predict(X_test_cut)))"
   ]
  },
  {
   "cell_type": "code",
   "execution_count": 89,
   "metadata": {},
   "outputs": [
    {
     "name": "stdout",
     "output_type": "stream",
     "text": [
      "\n",
      "confusion matrix for tree(max_depth 4) after upsamling:\n",
      "[[553  22]\n",
      " [ 39  53]]\n"
     ]
    },
    {
     "data": {
      "image/png": "[encoded data removed]",
      "text/plain": [
       "<Figure size 432x288 with 2 Axes>"
      ]
     },
     "metadata": {
      "needs_background": "light"
     },
     "output_type": "display_data"
    }
   ],
   "source": [
    "confusion_tree=confusion_matrix(y_test,  bestcut_clf.predict(X_test_cut))\n",
    "print(\"\\nconfusion matrix for tree(max_depth 4) after upsamling:\\n{}\".format(confusion_tree))\n",
    "\n",
    "group_names = [\"True Negative\",\"False Positive\",\"False Negative\",\"True Positive\"]\n",
    "group_counts = [\"{0:0.0f}\".format(value) for value in\n",
    "                confusion_tree.flatten()]\n",
    "group_percentages = [\"{0:.2%}\".format(value) for value in\n",
    "                     confusion_tree.flatten()/np.sum(confusion_tree)]\n",
    "labels = [f\"{v1}\\n{v2}\\n{v3}\" for v1, v2, v3 in\n",
    "          zip(group_names,group_counts,group_percentages)]\n",
    "labels = np.asarray(labels).reshape(2,2)\n",
    "sns_plot = sns.heatmap(confusion_tree, annot=labels, fmt=\"\", cmap='Blues')"
   ]
  },
  {
   "cell_type": "code",
   "execution_count": null,
   "metadata": {},
   "outputs": [],
   "source": []
  }
 ],
 "metadata": {
  "kernelspec": {
   "display_name": "Python 3",
   "language": "python",
   "name": "python3"
  },
  "language_info": {
   "codemirror_mode": {
    "name": "ipython",
    "version": 3
   },
   "file_extension": ".py",
   "mimetype": "text/x-python",
   "name": "python",
   "nbconvert_exporter": "python",
   "pygments_lexer": "ipython3",
   "version": "3.8.3"
  }
 },
 "nbformat": 4,
 "nbformat_minor": 4
}
